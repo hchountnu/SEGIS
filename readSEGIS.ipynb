import pandas as pd
catalog_url = "https://segis.moi.gov.tw/STAT/Resources/Project/Template/STATCatalog.xlsx"
catalog = pd.read_excel(catalog_url)
